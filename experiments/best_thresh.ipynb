{
 "cells": [
  {
   "cell_type": "code",
   "execution_count": null,
   "metadata": {},
   "outputs": [],
   "source": [
    "import pickle\n",
    "import glob\n",
    "import os\n",
    "from tqdm import tqdm\n",
    "import numpy as np\n",
    "import os\n",
    "\n",
    "current_directory = os.getcwd()\n",
    "if 'experiments' in current_directory:\n",
    "    parent_directory = os.path.dirname(current_directory)\n",
    "    os.chdir(parent_directory)\n",
    "\n",
    "ds = 'cityscapes'\n",
    "num_classes = 19\n",
    "exp = 'best_thresh'\n",
    "exp_dir = f'log/{ds}/{exp}'\n",
    "\n",
    "\n",
    "overall_dict = {}\n",
    "\n",
    "for file in tqdm(glob.glob(os.path.join(exp_dir, '*.pkl')), desc=f'reading from {exp_dir}'):\n",
    "    d = pickle.load(open(file, 'rb'))\n",
    "    filename = os.path.basename(file).replace('.pkl', '')\n",
    "    new_d = {}\n",
    "    new_d[filename] = d[filename]\n",
    "    d = new_d\n",
    "    for image_name, image_d in d.items():\n",
    "        for model_type, model_d in image_d.items():\n",
    "            if model_type not in overall_dict:\n",
    "                overall_dict[model_type] = {}\n",
    "            for metric, value in model_d.items():\n",
    "                if isinstance(value, np.ndarray):\n",
    "                    value = sum(value)\n",
    "                if isinstance(value, dict):\n",
    "                    for k, v in value.items():\n",
    "                        if k == 'num_pixels': k='num_pixels_per_cls'\n",
    "                        if k == 'cig': k='cig_per_cls'\n",
    "                        if k not in overall_dict[model_type]:\n",
    "                            overall_dict[model_type][k] = v\n",
    "                        else:\n",
    "                            overall_dict[model_type][k] += v\n",
    "                    continue\n",
    "                if metric not in overall_dict[model_type]:\n",
    "                    overall_dict[model_type][metric] = value\n",
    "                else:\n",
    "                    overall_dict[model_type][metric] += value\n"
   ]
  },
  {
   "cell_type": "code",
   "execution_count": null,
   "metadata": {},
   "outputs": [],
   "source": [
    "# graph_d should contain the relevant calculations\n",
    "# graph_d = {\n",
    "graph_d = {}\n",
    "baseline = {}\n",
    "for model_type, model_d in overall_dict.items():\n",
    "\n",
    "    if isinstance(model_type, tuple):\n",
    "        if model_type not in graph_d:\n",
    "            graph_d[model_type] = {}\n",
    "\n",
    "        assert sum(model_d['num_pixels_per_cls']) == model_d['num_pixels']\n",
    "        graph_d[model_type]['CIG'] = sum(model_d['cig_per_cls'])/sum(model_d['num_pixels_per_cls'])/np.log(171)\n",
    "        graph_d[model_type]['cCIG'] = np.mean([c/n/np.log(171) for c, n in zip(model_d['cig_per_cls'], model_d['num_pixels_per_cls']) if n > 0])\n",
    "        graph_d[model_type]['%\\\\ certified'] = model_d['certified_count']/model_d['num_pixels']\n",
    "    else:\n",
    "        baseline[model_type] = {}\n",
    "        baseline[model_type]['confusion_matrix'] = model_d['confusion_matrix']\n"
   ]
  },
  {
   "cell_type": "code",
   "execution_count": null,
   "metadata": {},
   "outputs": [],
   "source": [
    "graph_d = dict(sorted(graph_d.items(), key=lambda item: item[1]['CIG'], reverse=True))\n",
    "top_k = 0; d = False\n",
    "for model_type, model_d in graph_d.items():\n",
    "    n, n0, f, h_i, sigma, tau = model_type\n",
    "    if f is None:\n",
    "        print('\\nSegCertify', model_type, model_d)\n",
    "        d = True\n",
    "    else:\n",
    "        if top_k < 10:\n",
    "            print('AdaptiveCertify', model_type, model_d)\n",
    "            top_k +=1\n",
    "    if top_k == 10 and d:\n",
    "        break\n"
   ]
  }
 ],
 "metadata": {
  "kernelspec": {
   "display_name": "hrnet",
   "language": "python",
   "name": "python3"
  },
  "language_info": {
   "codemirror_mode": {
    "name": "ipython",
    "version": 3
   },
   "file_extension": ".py",
   "mimetype": "text/x-python",
   "name": "python",
   "nbconvert_exporter": "python",
   "pygments_lexer": "ipython3",
   "version": "3.8.18"
  },
  "orig_nbformat": 4
 },
 "nbformat": 4,
 "nbformat_minor": 2
}
